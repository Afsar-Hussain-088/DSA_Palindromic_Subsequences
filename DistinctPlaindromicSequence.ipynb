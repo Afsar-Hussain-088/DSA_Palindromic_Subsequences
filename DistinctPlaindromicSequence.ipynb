{
 "cells": [
  {
   "cell_type": "code",
   "execution_count": 3,
   "metadata": {},
   "outputs": [],
   "source": [
    "def countDistinctPalindromicSubsequences(key):\n",
    "    n = len(key)\n",
    "    dp = [[0] * n for _ in range(n)]\n",
    "\n",
    "    # Base cases: single characters are palindromes\n",
    "    for i in range(n):\n",
    "        dp[i][i] = 1\n",
    "        \n",
    "\n",
    "    # Fill the dp array using the recurrence relation\n",
    "    for length in range(2, n + 1):\n",
    "        for i in range(n - length + 1):\n",
    "            j = i + length - 1\n",
    "\n",
    "            if key[i] != key[j]:\n",
    "                dp[i][j] = dp[i + 1][j] + dp[i][j - 1] - dp[i + 1][j - 1]\n",
    "            else:\n",
    "                next_i = i + 1\n",
    "                prev_j = j - 1\n",
    "\n",
    "                # Find the next occurrence of key[i]\n",
    "                while next_i <= j and key[next_i] != key[i]:\n",
    "                    next_i += 1\n",
    "\n",
    "                # Find the previous occurrence of key[j]\n",
    "                while prev_j >= i and key[prev_j] != key[j]:\n",
    "                    prev_j -= 1\n",
    "\n",
    "                if next_i > prev_j:\n",
    "                    dp[i][j] = 2 * dp[i + 1][j - 1] + 2\n",
    "                elif next_i == prev_j:\n",
    "                    dp[i][j] = 2 * dp[i + 1][j - 1] + 1\n",
    "                else:\n",
    "                    dp[i][j] = 2 * dp[i + 1][j - 1] - dp[next_i + 1][prev_j - 1]\n",
    "\n",
    "            dp[i][j] = dp[i][j] % (10**9 + 7)\n",
    "\n",
    "    return dp[0][n - 1]\n"
   ]
  },
  {
   "cell_type": "code",
   "execution_count": 8,
   "metadata": {},
   "outputs": [
    {
     "name": "stdout",
     "output_type": "stream",
     "text": [
      "13\n"
     ]
    }
   ],
   "source": [
    "print(countDistinctPalindromicSubsequences(\"ab1a2cb\"))"
   ]
  },
  {
   "cell_type": "markdown",
   "metadata": {},
   "source": []
  }
 ],
 "metadata": {
  "kernelspec": {
   "display_name": "Python 3",
   "language": "python",
   "name": "python3"
  },
  "language_info": {
   "codemirror_mode": {
    "name": "ipython",
    "version": 3
   },
   "file_extension": ".py",
   "mimetype": "text/x-python",
   "name": "python",
   "nbconvert_exporter": "python",
   "pygments_lexer": "ipython3",
   "version": "3.11.0"
  },
  "orig_nbformat": 4
 },
 "nbformat": 4,
 "nbformat_minor": 2
}
